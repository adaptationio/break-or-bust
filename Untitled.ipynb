{
 "cells": [
  {
   "cell_type": "code",
   "execution_count": 1,
   "metadata": {},
   "outputs": [
    {
     "name": "stdout",
     "output_type": "stream",
     "text": [
      "Using matplotlib backend: TkAgg\n"
     ]
    }
   ],
   "source": [
    "import numpy as np\n",
    "import pyautogui\n",
    "import imutils\n",
    "import cv2\n",
    "import pytesseract\n",
    "from bs4 import BeautifulSoup\n",
    "from selenium import webdriver\n",
    "import time\n",
    "%matplotlib auto"
   ]
  },
  {
   "cell_type": "code",
   "execution_count": 13,
   "metadata": {},
   "outputs": [
    {
     "ename": "ValueError",
     "evalue": "could not convert string to float: ",
     "output_type": "error",
     "traceback": [
      "\u001b[0;31m---------------------------------------------------------------------------\u001b[0m",
      "\u001b[0;31mValueError\u001b[0m                                Traceback (most recent call last)",
      "\u001b[0;32m<ipython-input-13-aa459d0c134f>\u001b[0m in \u001b[0;36m<module>\u001b[0;34m()\u001b[0m\n\u001b[1;32m     27\u001b[0m     \u001b[0mgame\u001b[0m \u001b[0;34m=\u001b[0m \u001b[0mgame\u001b[0m\u001b[0;34m.\u001b[0m\u001b[0mreplace\u001b[0m\u001b[0;34m(\u001b[0m\u001b[0;34m'x'\u001b[0m\u001b[0;34m,\u001b[0m \u001b[0;34m''\u001b[0m\u001b[0;34m)\u001b[0m\u001b[0;34m\u001b[0m\u001b[0;34m\u001b[0m\u001b[0m\n\u001b[1;32m     28\u001b[0m     \u001b[0mgame\u001b[0m \u001b[0;34m=\u001b[0m \u001b[0mgame\u001b[0m\u001b[0;34m.\u001b[0m\u001b[0mreplace\u001b[0m\u001b[0;34m(\u001b[0m\u001b[0;34m'%'\u001b[0m\u001b[0;34m,\u001b[0m \u001b[0;34m''\u001b[0m\u001b[0;34m)\u001b[0m\u001b[0;34m\u001b[0m\u001b[0;34m\u001b[0m\u001b[0m\n\u001b[0;32m---> 29\u001b[0;31m     \u001b[0mgames\u001b[0m\u001b[0;34m.\u001b[0m\u001b[0mappend\u001b[0m\u001b[0;34m(\u001b[0m\u001b[0mfloat\u001b[0m\u001b[0;34m(\u001b[0m\u001b[0mgame\u001b[0m\u001b[0;34m)\u001b[0m\u001b[0;34m)\u001b[0m\u001b[0;34m\u001b[0m\u001b[0;34m\u001b[0m\u001b[0m\n\u001b[0m\u001b[1;32m     30\u001b[0m     \u001b[0mcount\u001b[0m \u001b[0;34m=\u001b[0m \u001b[0mcount\u001b[0m \u001b[0;34m+\u001b[0m \u001b[0;36m1\u001b[0m\u001b[0;34m\u001b[0m\u001b[0;34m\u001b[0m\u001b[0m\n\u001b[1;32m     31\u001b[0m     \u001b[0mprint\u001b[0m\u001b[0;34m(\u001b[0m\u001b[0mgame\u001b[0m\u001b[0;34m)\u001b[0m\u001b[0;34m\u001b[0m\u001b[0;34m\u001b[0m\u001b[0m\n",
      "\u001b[0;31mValueError\u001b[0m: could not convert string to float: "
     ]
    }
   ],
   "source": [
    "games = [1.97]\n",
    "#for i in range(1000000):\n",
    "start = 3206947 - 1000\n",
    "count = 0\n",
    "driver = webdriver.Firefox()\n",
    "driver.get('https://www.bustabit.com/game/'+str(start))\n",
    "\n",
    "time.sleep(5)\n",
    "\n",
    "for i in range(1000):\n",
    "    gameid = start + count\n",
    "    driver.get('https://www.bustabit.com/game/'+str(gameid))\n",
    "    time.sleep(3)\n",
    "    image = pyautogui.screenshot(region=(936,475, 290, 30))\n",
    "    image = cv2.cvtColor(np.array(image), cv2.COLOR_RGB2BGR)\n",
    "    #image = cv2.cvtColor(np.array(image), cv2.COLOR_BGR2GRAY)\n",
    "   # image = cv2.GaussianBlur(image, (5, 5), 0)\n",
    "    #image = cv2.Canny(image, 50, 200, 255)\n",
    "#image = cv2.medianBlur(image,5)\n",
    "#cv2.imwrite(\"i1n_memory_to_disk.png\", image)\n",
    "    #image = cv2.imread(\"in_memory_to_disk.png\")\n",
    "    #cv2.imshow('HSV image', image); cv2.waitKey(0); cv2.destroyAllWindows(); cv2.waitKey(1)\n",
    "#pytesseract.image_to_string(image, lang='eng', \\\n",
    "           #config='--psm 10 --oem 3 -c tessedit_char_whitelist=0123456789')\n",
    "    custom_config = r'--oem 1 --psm 1'\n",
    "    custom_config = r'--oem 3 --psm 6'\n",
    "    game = pytesseract.image_to_string(image, config=custom_config)\n",
    "    game = game.replace('x', '')\n",
    "    game = game.replace('%', '')\n",
    "    games.append(float(game))\n",
    "    count = count + 1\n",
    "    print(game)\n",
    "    #game = float(game)\n",
    "    #games = [1.97]\n",
    "    #if game != games[-1]:\n",
    "        #games.append(float(game))\n",
    "        #print(games)\n",
    "                     \n"
   ]
  },
  {
   "cell_type": "code",
   "execution_count": 17,
   "metadata": {},
   "outputs": [
    {
     "data": {
      "text/plain": [
       "array([[[ 38,  38,  38],\n",
       "        [ 38,  38,  38],\n",
       "        [ 38,  38,  38],\n",
       "        ...,\n",
       "        [247, 249, 249],\n",
       "        [247, 249, 249],\n",
       "        [247, 249, 249]],\n",
       "\n",
       "       [[ 38,  38,  38],\n",
       "        [ 38,  38,  38],\n",
       "        [ 38,  38,  38],\n",
       "        ...,\n",
       "        [247, 249, 249],\n",
       "        [247, 249, 249],\n",
       "        [247, 249, 249]],\n",
       "\n",
       "       [[ 38,  38,  38],\n",
       "        [ 38,  38,  38],\n",
       "        [ 38,  38,  38],\n",
       "        ...,\n",
       "        [247, 249, 249],\n",
       "        [247, 249, 249],\n",
       "        [247, 249, 249]],\n",
       "\n",
       "       ...,\n",
       "\n",
       "       [[ 31,  31,  31],\n",
       "        [ 31,  31,  31],\n",
       "        [ 31,  31,  31],\n",
       "        ...,\n",
       "        [ 89,  89,  89],\n",
       "        [ 89,  89,  89],\n",
       "        [ 89,  89,  89]],\n",
       "\n",
       "       [[ 38,  38,  38],\n",
       "        [ 38,  38,  38],\n",
       "        [ 38,  38,  38],\n",
       "        ...,\n",
       "        [ 89,  89,  89],\n",
       "        [ 89,  89,  89],\n",
       "        [ 89,  89,  89]],\n",
       "\n",
       "       [[ 38,  38,  38],\n",
       "        [ 38,  38,  38],\n",
       "        [ 38,  38,  38],\n",
       "        ...,\n",
       "        [ 89,  89,  89],\n",
       "        [ 89,  89,  89],\n",
       "        [ 89,  89,  89]]], dtype=uint8)"
      ]
     },
     "execution_count": 17,
     "metadata": {},
     "output_type": "execute_result"
    }
   ],
   "source": []
  },
  {
   "cell_type": "code",
   "execution_count": 6,
   "metadata": {},
   "outputs": [],
   "source": [
    "import requests\n"
   ]
  },
  {
   "cell_type": "markdown",
   "metadata": {},
   "source": [
    "# import pyautogui\n",
    "image = pyautogui.screenshot(region=(50,50, 300, 400))\n",
    "image = cv2.cvtColor(np.array(image), cv2.COLOR_RGB2BGR)\n",
    "cv2.imwrite(\"in_memory_to_disk.png\", image)"
   ]
  },
  {
   "cell_type": "code",
   "execution_count": 7,
   "metadata": {},
   "outputs": [
    {
     "data": {
      "text/plain": [
       "<Response [200]>"
      ]
     },
     "execution_count": 7,
     "metadata": {},
     "output_type": "execute_result"
    }
   ],
   "source": [
    "URL = 'https://www.bustabit.com/game/3205683'\n",
    "URL = 'https://www.bustabit.com/play'\n",
    "requests.get(URL)\n"
   ]
  },
  {
   "cell_type": "code",
   "execution_count": 18,
   "metadata": {},
   "outputs": [
    {
     "name": "stdout",
     "output_type": "stream",
     "text": [
      "Requirement already satisfied: beautifulsoup4 in /home/adaptation/anaconda3/envs/drlnd/lib/python3.6/site-packages (4.9.0)\n",
      "Requirement already satisfied: soupsieve>1.2 in /home/adaptation/anaconda3/envs/drlnd/lib/python3.6/site-packages (from beautifulsoup4) (2.0)\n",
      "\u001b[33mYou are using pip version 19.0.3, however version 20.1 is available.\n",
      "You should consider upgrading via the 'pip install --upgrade pip' command.\u001b[0m\n",
      "Collecting selenium\n",
      "\u001b[?25l  Downloading https://files.pythonhosted.org/packages/80/d6/4294f0b4bce4de0abf13e17190289f9d0613b0a44e5dd6a7f5ca98459853/selenium-3.141.0-py2.py3-none-any.whl (904kB)\n",
      "\u001b[K    100% |████████████████████████████████| 911kB 1.2MB/s ta 0:00:01\n",
      "\u001b[?25hRequirement already satisfied: urllib3 in /home/adaptation/anaconda3/envs/drlnd/lib/python3.6/site-packages (from selenium) (1.23)\n",
      "Installing collected packages: selenium\n",
      "Successfully installed selenium-3.141.0\n",
      "\u001b[33mYou are using pip version 19.0.3, however version 20.1 is available.\n",
      "You should consider upgrading via the 'pip install --upgrade pip' command.\u001b[0m\n"
     ]
    }
   ],
   "source": [
    "!pip install beautifulsoup4\n",
    "!pip install selenium"
   ]
  },
  {
   "cell_type": "code",
   "execution_count": null,
   "metadata": {},
   "outputs": [],
   "source": [
    "https://github.com/mozilla/geckodriver/releases/download/v0.26.0/geckodriver-v0.26.0-linux64.tar.gz\n",
    "## Geckodriver\n",
    "wget https://github.com/mozilla/geckodriver/releases/download/v0.26.0/geckodriver-v0.26.0-linux64.tar.gz\n",
    "sudo sh -c 'tar -x geckodriver -zf geckodriver-v0.26.0-linux64.tar.gz -O > /usr/bin/geckodriver'\n",
    "sudo chmod +x /usr/bin/geckodriver\n",
    "rm geckodriver-v0.23.0-linux64.tar.gz\n",
    "\n",
    "## Chromedriver\n",
    "wget https://chromedriver.storage.googleapis.com/2.29/chromedriver_linux64.zip\n",
    "unzip chromedriver_linux64.zip\n",
    "sudo chmod +x chromedriver\n",
    "sudo mv chromedriver /usr/bin/\n",
    "rm chromedriver_linux64.zip"
   ]
  },
  {
   "cell_type": "code",
   "execution_count": 11,
   "metadata": {},
   "outputs": [],
   "source": [
    "from bs4 import BeautifulSoup\n",
    "from selenium import webdriver\n",
    "import time\n",
    "driver = webdriver.Firefox()\n",
    "driver.get('https://www.bustabit.com/game/3206947')\n",
    "\n",
    "html = driver.page_source\n",
    "time.sleep(10)\n",
    "#soup = BeautifulSoup(html)\n",
    "driver.get('https://www.bustabit.com/game/3206948')\n"
   ]
  },
  {
   "cell_type": "code",
   "execution_count": 9,
   "metadata": {},
   "outputs": [
    {
     "data": {
      "text/plain": [
       "<html lang=\"en\"><head><meta charset=\"utf-8\"/><meta content=\"width=device-width,initial-scale=1,user-scalable=no\" name=\"viewport\"/><title>bustabit – The original crash game</title><link href=\"/apple-icon-57x57.png\" rel=\"apple-touch-icon\" sizes=\"57x57\"/><link href=\"/apple-icon-60x60.png\" rel=\"apple-touch-icon\" sizes=\"60x60\"/><link href=\"/apple-icon-72x72.png\" rel=\"apple-touch-icon\" sizes=\"72x72\"/><link href=\"/apple-icon-76x76.png\" rel=\"apple-touch-icon\" sizes=\"76x76\"/><link href=\"/apple-icon-114x114.png\" rel=\"apple-touch-icon\" sizes=\"114x114\"/><link href=\"/apple-icon-120x120.png\" rel=\"apple-touch-icon\" sizes=\"120x120\"/><link href=\"/apple-icon-144x144.png\" rel=\"apple-touch-icon\" sizes=\"144x144\"/><link href=\"/apple-icon-152x152.png\" rel=\"apple-touch-icon\" sizes=\"152x152\"/><link href=\"/apple-icon-180x180.png\" rel=\"apple-touch-icon\" sizes=\"180x180\"/><link href=\"/android-icon-192x192.png\" rel=\"icon\" sizes=\"192x192\" type=\"image/png\"/><link href=\"/favicon-32x32.png\" rel=\"icon\" sizes=\"32x32\" type=\"image/png\"/><link href=\"/favicon-96x96.png\" rel=\"icon\" sizes=\"96x96\" type=\"image/png\"/><link href=\"/favicon-16x16.png\" rel=\"icon\" sizes=\"16x16\" type=\"image/png\"/><meta content=\"#383838\" name=\"theme-color\"/><link href=\"/manifest.webmanifest\" rel=\"manifest\"/><link href=\"/static/1.0fefa8c774f499398670.css\" rel=\"stylesheet\" type=\"text/css\"/><script charset=\"utf-8\" src=\"/static/1.70343610c27fc52a7077.js\"></script><link href=\"/static/2.fb7970c215931d145fd7.css\" rel=\"stylesheet\" type=\"text/css\"/><script charset=\"utf-8\" src=\"/static/2.f25034e533b18d4b7687.js\"></script></head><body class=\"theme-dark modal-open\" style=\"overflow: hidden;\"><div aria-hidden=\"true\" id=\"root\"><div><div class=\"container-fluid\" style=\"height: 966px;\"><div style=\"display: none;\"></div><div><nav class=\"navbar navbar-default\"><div class=\"container-fluid\"><div class=\"navbar-header\" style=\"margin-top: 3px;\"><img alt=\"bustabit Logo\" height=\"40\" src=\"/static/5e6858c10d1ec1745f70f68589a35217.png\" style=\"width: 40px; float: left; margin-right: 10px; margin-top: 4px;\" width=\"40\"/><a class=\"navbar-brand\" href=\"/\" style=\"text-transform: lowercase; font-size: 3.2rem; font-family: Courier New, sans-serif; font-weight: 600; margin-right: 10px;\">bustabit</a><button class=\"navbar-toggle collapsed\" type=\"button\"><span class=\"sr-only\">Toggle navigation</span><span class=\"icon-bar\"></span><span class=\"icon-bar\"></span><span class=\"icon-bar\"></span></button></div><div class=\"navbar-collapse collapse\"><ul class=\"nav navbar-nav\"><li><a href=\"/statistics\" style=\"padding: 15px 8px; text-decoration: none; text-transform: uppercase; letter-spacing: 2px; font-size: 12px;\"><i class=\"fa fa-bar-chart\" style=\"font-size: 1.6rem;\"></i> Statistics</a></li><li><a href=\"/leaderboard\" style=\"padding: 15px 8px; text-decoration: none; text-transform: uppercase; letter-spacing: 2px; font-size: 12px;\"><i class=\"fa fa-trophy\" style=\"font-size: 1.6rem;\"></i> Leaderboard</a></li><li class=\"dropdown\" style=\"padding: 5px 8px; text-decoration: none; text-transform: uppercase; letter-spacing: 2px; font-size: 12px;\"><a aria-expanded=\"false\" aria-haspopup=\"true\" class=\"dropdown-toggle\" href=\"#\" id=\"basic-nav-dropdown\" role=\"button\">Help <span class=\"caret\"></span></a><ul aria-labelledby=\"basic-nav-dropdown\" class=\"dropdown-menu\" role=\"menu\"><li class=\"\" role=\"presentation\"><a href=\"/faq/is-the-game-fair\" role=\"menuitem\" tabindex=\"-1\"><i aria-hidden=\"true\" class=\"fa fa-balance-scale\"></i> Provably Fair</a></li><li class=\"\" role=\"presentation\"><a href=\"/faq\" role=\"menuitem\" tabindex=\"-1\">FAQ</a></li><li class=\"\" role=\"presentation\"><a href=\"/support\" role=\"menuitem\" tabindex=\"-1\"><i aria-hidden=\"true\" class=\"fa fa-question-circle\"></i> Support</a></li></ul></li></ul><ul class=\"nav navbar-nav navbar-right\"><li><a href=\"/login\"><b>Login</b></a></li><li><a href=\"/register\">Register</a></li></ul></div></div></nav></div><div class=\"notification-bar notification-bar\"><div class=\"notification-bar-wrapper\"><span class=\"notification-bar-message\"></span><span class=\"notification-bar-action\"><i class=\"fa fa-times\"></i></span></div></div><div class=\"col-xs-24\"><div class=\"row\"><div class=\"col-md-16 col-xs-24\"><div class=\"row\"><div class=\"col-md-12 col-xs-24\" style=\"height: 402.3px;\"><div class=\"component-box graphic-display\" style=\"display: flex; align-items: center; flex-direction: column; padding-top: 5px;\"><div class=\"col-xs-24 text-center\" style=\"position: relative;\"><canvas height=\"359\" style=\"position: absolute; width: 346.667px; height: 359.3px;\" width=\"346\"></canvas><canvas height=\"359\" style=\"position: absolute; width: 346.667px; height: 359.3px;\" width=\"346\"></canvas><canvas height=\"359\" style=\"position: absolute; width: 346.667px; height: 359.3px;\" width=\"346\"></canvas><canvas height=\"359\" style=\"width: 346.667px; height: 359.3px;\" width=\"346\"></canvas></div><div class=\"table-responsive\" style=\"margin-bottom: 0px; width: 100%;\"><table class=\"table table-striped table-condensed\" style=\"margin-bottom: 0px;\"><tbody style=\"text-align: center;\"><tr style=\"background-color: transparent;\"></tr></tbody></table></div></div></div><div class=\"col-md-12 col-xs-24\" style=\"height: 402.3px;\"><div class=\"component-box bet-controls\"><div class=\"text-center loginContainer\"><h4><a href=\"/login\">Login</a> or <a href=\"/register\">Register</a> to start playing.</h4></div></div></div></div><div class=\"row\"><div class=\"col-xs-24\" style=\"height: 491.7px;\"><div class=\"component-box-bottom\"><div class=\"col-xs-2\" style=\"width: 34px; padding: 0px;\"><div style=\"height: 491.7px;\"><ul class=\"nav nav-tabs tabs-left tabs-left-desktop\" style=\"height: 461.7px; position: relative;\"><li class=\"active\"><a style=\"top: 50%;\">Chat</a></li><li class=\"\"><a style=\"top: 60%;\">History</a></li></ul><a href=\"/game-settings\" style=\"bottom: 5px; left: 10px; position: absolute;\"><i class=\"fa fa-cog\"></i></a></div></div><div class=\"col-xs-22\" style=\"padding: 0px; width: calc(100% - 34px);\"><div><div class=\"inner-container-bottom\" style=\"height: 491.7px; overflow: hidden;\"><div><div><div><div><div class=\"channel-title\"><div></div>english<button class=\"no-btn\"><i class=\"fa fa-times\"></i> Leave</button></div><ul class=\"chat-container\" style=\"height: 437.7px; overflow-y: scroll; overflow-wrap: break-word; margin: 0px; padding-right: 12%;\"><li class=\"lead text-muted\">The english channel has no messages.</li></ul></div><div class=\"chat-channel-container\" style=\"height: 437.7px; position: absolute; top: 20px; right: 2rem; width: 80px; overflow: hidden;\"><div style=\"height: 437.7px; width: 95px; overflow-y: scroll;\"><div class=\"chat-channel-sidebar-div\"><p class=\"channel-header\"><i class=\"fa fa-minus-square-o\"></i> Channels</p><div class=\"channels-show\"><button class=\"chat-channel-sidebar-focused-button\"><div alt=\"english\" class=\"flag flag-icon flag-icon-gb\" style=\"cursor: pointer;\"></div></button></div></div></div></div></div><div><form class=\"form-horizontal\"><span class=\"has-error input-group\"><input class=\"form-control chat-input\" disabled=\"\" maxlength=\"1000\" placeholder=\"You must be logged in to chat.\" value=\"\"/><span class=\"input-group-btn\"><button class=\"chat-rooms-btn btn btn-default\" type=\"button\"><i class=\"fa fa-plus-circle\"></i></button></span></span></form></div></div></div></div></div></div></div></div></div></div><div class=\"col-md-8 col-xs-24 margin-top-right-panel\" style=\"height: 872px;\"><div class=\"component-box-player-list\"><table class=\"playerlist-table table table-striped table-bordered table-condensed table-hover\"><thead class=\"table-header\"><tr><th>User</th><th class=\"text-right\">@</th><th class=\"text-right\">Bet</th><th class=\"text-right\">Profit</th></tr></thead><tbody></tbody></table></div><div><div class=\"table-responsive\"><table class=\"playerlist-stats-table table table-striped table-condensed\"><tbody><tr class=\"table-footer\"><td>Online: 0 </td><td>Playing: 0 </td><td>Betting: 0 bits</td></tr></tbody></table></div></div></div></div></div></div></div></div><noscript aria-hidden=\"true\">&lt;style&gt;#container {\n",
       "          display: flex;\n",
       "          flex-direction: column;\n",
       "          align-items: center;\n",
       "          justify-content: center;\n",
       "        }\n",
       "\n",
       "        #header {\n",
       "          display: flex;\n",
       "        }\n",
       "\n",
       "        #brand {\n",
       "          letter-spacing: 5px;\n",
       "          font-size: 40px;\n",
       "          font-family: \"Courier New\", \"sans-serif\";\n",
       "          color: #e58929;\n",
       "        }\n",
       "\n",
       "        #logo {\n",
       "          margin-top: 35px;\n",
       "          margin-right: 20px;\n",
       "          height: 35px;\n",
       "        }\n",
       "\n",
       "        #warning {\n",
       "          color: #4c4c4c;\n",
       "          font-family: \"Lato\", \"sans-serif\";\n",
       "          font-size: x-large;\n",
       "          margin: 0 20px 0 20px;\n",
       "          max-width: 700px;\n",
       "        }&lt;/style&gt;&lt;div id=\"container\"&gt;&lt;div id=\"header\"&gt;&lt;img id=\"logo\" src=\"/ms-icon-310x310.png\" alt=\"bustabit logo\"&gt;&lt;h1 id=\"brand\"&gt;bustabit&lt;/h1&gt;&lt;/div&gt;&lt;p id=\"warning\"&gt;It looks like JavaScript is disabled or not supported by your browser. In order for bustabit to work JavaScript must be enabled!&lt;/p&gt;&lt;/div&gt;</noscript><script src=\"/static/1678b8c8d7765527084d.js\"></script><div aria-hidden=\"true\" role=\"dialog\"><div class=\"fade modal-backdrop in\"></div><div aria-labelledby=\"contained-modal-title-sm\" class=\"fade in modal\" role=\"dialog\" style=\"display: block;\" tabindex=\"-1\"><div class=\"modal-lg modal-dialog\"><div class=\"modal-content\" role=\"document\"><div class=\"modal-header\"><button class=\"close\" type=\"button\"><span aria-hidden=\"true\">×</span><span class=\"sr-only\">Close</span></button><h4 class=\"modal-title\" id=\"contained-modal-title-sm\">Game Information</h4></div><div class=\"modal-body\"><div class=\"row\" style=\"margin: 15px 0px;\"><div class=\"text-center col-xs-24\"><i class=\"fa fa-spinner fa-pulse fa-3x fa-fw\"></i></div></div></div></div></div></div></div></body></html>"
      ]
     },
     "execution_count": 9,
     "metadata": {},
     "output_type": "execute_result"
    }
   ],
   "source": [
    "BeautifulSoup(html)"
   ]
  },
  {
   "cell_type": "code",
   "execution_count": 16,
   "metadata": {},
   "outputs": [
    {
     "name": "stdout",
     "output_type": "stream",
     "text": [
      "<!DOCTYPE html>\n",
      "<html lang=\"en\">\n",
      " <head>\n",
      "  <meta charset=\"utf-8\"/>\n",
      "  <meta content=\"width=device-width,initial-scale=1,user-scalable=no\" name=\"viewport\"/>\n",
      "  <title>\n",
      "   bustabit – The original crash game\n",
      "  </title>\n",
      "  <link href=\"/apple-icon-57x57.png\" rel=\"apple-touch-icon\" sizes=\"57x57\"/>\n",
      "  <link href=\"/apple-icon-60x60.png\" rel=\"apple-touch-icon\" sizes=\"60x60\"/>\n",
      "  <link href=\"/apple-icon-72x72.png\" rel=\"apple-touch-icon\" sizes=\"72x72\"/>\n",
      "  <link href=\"/apple-icon-76x76.png\" rel=\"apple-touch-icon\" sizes=\"76x76\"/>\n",
      "  <link href=\"/apple-icon-114x114.png\" rel=\"apple-touch-icon\" sizes=\"114x114\"/>\n",
      "  <link href=\"/apple-icon-120x120.png\" rel=\"apple-touch-icon\" sizes=\"120x120\"/>\n",
      "  <link href=\"/apple-icon-144x144.png\" rel=\"apple-touch-icon\" sizes=\"144x144\"/>\n",
      "  <link href=\"/apple-icon-152x152.png\" rel=\"apple-touch-icon\" sizes=\"152x152\"/>\n",
      "  <link href=\"/apple-icon-180x180.png\" rel=\"apple-touch-icon\" sizes=\"180x180\"/>\n",
      "  <link href=\"/android-icon-192x192.png\" rel=\"icon\" sizes=\"192x192\" type=\"image/png\"/>\n",
      "  <link href=\"/favicon-32x32.png\" rel=\"icon\" sizes=\"32x32\" type=\"image/png\"/>\n",
      "  <link href=\"/favicon-96x96.png\" rel=\"icon\" sizes=\"96x96\" type=\"image/png\"/>\n",
      "  <link href=\"/favicon-16x16.png\" rel=\"icon\" sizes=\"16x16\" type=\"image/png\"/>\n",
      "  <meta content=\"#383838\" name=\"theme-color\"/>\n",
      "  <link href=\"/manifest.webmanifest\" rel=\"manifest\"/>\n",
      " </head>\n",
      " <body class=\"theme-dark\">\n",
      "  <div id=\"root\">\n",
      "  </div>\n",
      "  <noscript>\n",
      "   <style>\n",
      "    #container {\n",
      "          display: flex;\n",
      "          flex-direction: column;\n",
      "          align-items: center;\n",
      "          justify-content: center;\n",
      "        }\n",
      "\n",
      "        #header {\n",
      "          display: flex;\n",
      "        }\n",
      "\n",
      "        #brand {\n",
      "          letter-spacing: 5px;\n",
      "          font-size: 40px;\n",
      "          font-family: \"Courier New\", \"sans-serif\";\n",
      "          color: #e58929;\n",
      "        }\n",
      "\n",
      "        #logo {\n",
      "          margin-top: 35px;\n",
      "          margin-right: 20px;\n",
      "          height: 35px;\n",
      "        }\n",
      "\n",
      "        #warning {\n",
      "          color: #4c4c4c;\n",
      "          font-family: \"Lato\", \"sans-serif\";\n",
      "          font-size: x-large;\n",
      "          margin: 0 20px 0 20px;\n",
      "          max-width: 700px;\n",
      "        }\n",
      "   </style>\n",
      "   <div id=\"container\">\n",
      "    <div id=\"header\">\n",
      "     <img alt=\"bustabit logo\" id=\"logo\" src=\"/ms-icon-310x310.png\"/>\n",
      "     <h1 id=\"brand\">\n",
      "      bustabit\n",
      "     </h1>\n",
      "    </div>\n",
      "    <p id=\"warning\">\n",
      "     It looks like JavaScript is disabled or not supported by your browser. In order for bustabit to work JavaScript must be enabled!\n",
      "    </p>\n",
      "   </div>\n",
      "  </noscript>\n",
      "  <script src=\"/static/1678b8c8d7765527084d.js\">\n",
      "  </script>\n",
      " </body>\n",
      "</html>\n"
     ]
    }
   ],
   "source": [
    "from bs4 import BeautifulSoup\n",
    "URL = 'https://www.bustabit.com/game/3205683'\n",
    "page = requests.get(URL)\n",
    "\n",
    "results = BeautifulSoup(page.content, 'html.parser')\n",
    "job_elems = results.find_all('section', class_='table table-striped table-condensed')\n",
    "job_elems\n",
    "print(results.prettify())\n"
   ]
  },
  {
   "cell_type": "code",
   "execution_count": 4,
   "metadata": {},
   "outputs": [
    {
     "ename": "TypeError",
     "evalue": "mat is not a numpy array, neither a scalar",
     "output_type": "error",
     "traceback": [
      "\u001b[0;31m---------------------------------------------------------------------------\u001b[0m",
      "\u001b[0;31mTypeError\u001b[0m                                 Traceback (most recent call last)",
      "\u001b[0;32m<ipython-input-4-b1178590ed07>\u001b[0m in \u001b[0;36m<module>\u001b[0;34m()\u001b[0m\n\u001b[1;32m      2\u001b[0m \u001b[0mimage\u001b[0m \u001b[0;34m=\u001b[0m \u001b[0mpyautogui\u001b[0m\u001b[0;34m.\u001b[0m\u001b[0mscreenshot\u001b[0m\u001b[0;34m(\u001b[0m\u001b[0mregion\u001b[0m\u001b[0;34m=\u001b[0m\u001b[0;34m(\u001b[0m\u001b[0;36m50\u001b[0m\u001b[0;34m,\u001b[0m\u001b[0;36m25\u001b[0m\u001b[0;34m,\u001b[0m \u001b[0;36m50\u001b[0m\u001b[0;34m,\u001b[0m \u001b[0;36m50\u001b[0m\u001b[0;34m)\u001b[0m\u001b[0;34m)\u001b[0m\u001b[0;34m\u001b[0m\u001b[0;34m\u001b[0m\u001b[0m\n\u001b[1;32m      3\u001b[0m \u001b[0;31m#image = cv2.cvtColor(np.array(image), cv2.COLOR_RGB2BGR)\u001b[0m\u001b[0;34m\u001b[0m\u001b[0;34m\u001b[0m\u001b[0;34m\u001b[0m\u001b[0m\n\u001b[0;32m----> 4\u001b[0;31m \u001b[0mcv2\u001b[0m\u001b[0;34m.\u001b[0m\u001b[0mimshow\u001b[0m\u001b[0;34m(\u001b[0m\u001b[0;34m\"Screenshot\"\u001b[0m\u001b[0;34m,\u001b[0m \u001b[0mimage\u001b[0m\u001b[0;34m)\u001b[0m\u001b[0;34m\u001b[0m\u001b[0;34m\u001b[0m\u001b[0m\n\u001b[0m",
      "\u001b[0;31mTypeError\u001b[0m: mat is not a numpy array, neither a scalar"
     ]
    }
   ],
   "source": [
    "import pyautogui\n",
    "image = pyautogui.screenshot(region=(50,25, 50, 50))\n",
    "#image = cv2.cvtColor(np.array(image), cv2.COLOR_RGB2BGR)\n",
    "cv2.imshow(\"Screenshot\", image)"
   ]
  },
  {
   "cell_type": "code",
   "execution_count": null,
   "metadata": {},
   "outputs": [],
   "source": []
  },
  {
   "cell_type": "code",
   "execution_count": null,
   "metadata": {},
   "outputs": [],
   "source": []
  },
  {
   "cell_type": "code",
   "execution_count": null,
   "metadata": {},
   "outputs": [],
   "source": [
    "import cv2 \n",
    "import pytesseract\n",
    "\n",
    "img = cv2.imread('image.jpg')\n",
    "\n",
    "# Adding custom options\n",
    "custom_config = r'--oem 3 --psm 6'\n",
    "pytesseract.image_to_string(img, config=custom_config)"
   ]
  }
 ],
 "metadata": {
  "kernelspec": {
   "display_name": "Python 3",
   "language": "python",
   "name": "python3"
  },
  "language_info": {
   "codemirror_mode": {
    "name": "ipython",
    "version": 3
   },
   "file_extension": ".py",
   "mimetype": "text/x-python",
   "name": "python",
   "nbconvert_exporter": "python",
   "pygments_lexer": "ipython3",
   "version": "3.6.8"
  }
 },
 "nbformat": 4,
 "nbformat_minor": 2
}
